{
  "nbformat": 4,
  "nbformat_minor": 0,
  "metadata": {
    "colab": {
      "provenance": [],
      "toc_visible": true,
      "authorship_tag": "ABX9TyPgyjFcXJZXoNaq7+Al/ohY",
      "include_colab_link": true
    },
    "kernelspec": {
      "name": "python3",
      "display_name": "Python 3"
    },
    "language_info": {
      "name": "python"
    }
  },
  "cells": [
    {
      "cell_type": "markdown",
      "metadata": {
        "id": "view-in-github",
        "colab_type": "text"
      },
      "source": [
        "<a href=\"https://colab.research.google.com/github/Maggiesyh/Colab_2/blob/main/%E8%A8%B1%E6%B7%91%E7%91%97.ipynb\" target=\"_parent\"><img src=\"https://colab.research.google.com/assets/colab-badge.svg\" alt=\"Open In Colab\"/></a>"
      ]
    },
    {
      "cell_type": "code",
      "execution_count": null,
      "metadata": {
        "colab": {
          "base_uri": "https://localhost:8080/"
        },
        "id": "u1pB6wE4knxt",
        "outputId": "8b2da528-d04f-41a8-f954-ba395c8e4337"
      },
      "outputs": [
        {
          "output_type": "stream",
          "name": "stdout",
          "text": [
            "Python\n"
          ]
        }
      ],
      "source": [
        "#print\n",
        "print('Python')“"
      ]
    },
    {
      "cell_type": "code",
      "source": [
        " #print\n",
        " print('Python')"
      ],
      "metadata": {
        "colab": {
          "base_uri": "https://localhost:8080/"
        },
        "id": "3R9hhTTem-kv",
        "outputId": "3b35feb0-4ce2-43d9-ec51-79c8db174763"
      },
      "execution_count": null,
      "outputs": [
        {
          "output_type": "stream",
          "name": "stdout",
          "text": [
            "Python\n"
          ]
        }
      ]
    },
    {
      "cell_type": "code",
      "source": [
        "  #print\n",
        "  print('Python')"
      ],
      "metadata": {
        "colab": {
          "base_uri": "https://localhost:8080/"
        },
        "id": "RI9MVuNUnMN8",
        "outputId": "c5097922-0701-4cdd-bd92-445561517df4"
      },
      "execution_count": null,
      "outputs": [
        {
          "output_type": "stream",
          "name": "stdout",
          "text": [
            "Python\n"
          ]
        }
      ]
    },
    {
      "cell_type": "code",
      "source": [
        "'''This is\n",
        "comment'''\n"
      ],
      "metadata": {
        "colab": {
          "base_uri": "https://localhost:8080/",
          "height": 35
        },
        "id": "QL_VlO6XnXJ-",
        "outputId": "00c28e3e-75c6-490b-eee5-45fcf08b471e"
      },
      "execution_count": null,
      "outputs": [
        {
          "output_type": "execute_result",
          "data": {
            "text/plain": [
              "'This is\\ncomment'"
            ],
            "application/vnd.google.colaboratory.intrinsic+json": {
              "type": "string"
            }
          },
          "metadata": {},
          "execution_count": 5
        }
      ]
    },
    {
      "cell_type": "code",
      "source": [
        "\"\"\"This is\n",
        "comment'''"
      ],
      "metadata": {
        "colab": {
          "base_uri": "https://localhost:8080/",
          "height": 135
        },
        "id": "c4h1e-g9osFQ",
        "outputId": "4ec317b9-c4b0-43e0-a7fd-d3b715cf3685"
      },
      "execution_count": null,
      "outputs": [
        {
          "output_type": "error",
          "ename": "SyntaxError",
          "evalue": "ignored",
          "traceback": [
            "\u001b[0;36m  File \u001b[0;32m\"<ipython-input-6-2edc3bd02712>\"\u001b[0;36m, line \u001b[0;32m1\u001b[0m\n\u001b[0;31m    \"\"\"This is\u001b[0m\n\u001b[0m    ^\u001b[0m\n\u001b[0;31mSyntaxError\u001b[0m\u001b[0;31m:\u001b[0m incomplete input\n"
          ]
        }
      ]
    },
    {
      "cell_type": "code",
      "source": [
        "#calculate area\n",
        "top = float(input(\"請輸入梯形上底長度\"))\n",
        "bottom = float(input(\"請輸入梯形下底長度\"))\n",
        "height = float(input(\"請輸入梯形高度\"))\n",
        "area = (top + bottom) * height / 2\n",
        "print(\"梯性的面積為：\" + str(area))"
      ],
      "metadata": {
        "colab": {
          "base_uri": "https://localhost:8080/"
        },
        "id": "cFPS3ip7pEpn",
        "outputId": "dcc17e2f-15cd-4e7e-ffe9-b9338d92cc62"
      },
      "execution_count": null,
      "outputs": [
        {
          "output_type": "stream",
          "name": "stdout",
          "text": [
            "請輸入梯形上底長度12\n",
            "請輸入梯形下底長度28\n",
            "請輸入梯形高度14\n",
            "梯性的面積為：280.0\n"
          ]
        }
      ]
    },
    {
      "cell_type": "code",
      "source": [
        "#HW1\n",
        "#calculare rectangular area\n",
        "length = float(input(\"請輸入長方形長度:\"))\n",
        "height = float(input(\"請輸入長方形高度:\"))\n",
        "area = length * height\n",
        "print(\"長方形面積為：\" + str(area))"
      ],
      "metadata": {
        "colab": {
          "base_uri": "https://localhost:8080/"
        },
        "id": "lgjFtz78wZDU",
        "outputId": "937b7e49-f43f-435a-ea88-53171dbdf2c5"
      },
      "execution_count": null,
      "outputs": [
        {
          "output_type": "stream",
          "name": "stdout",
          "text": [
            "請輸入長方形長度12\n",
            "請輸入長方形高度8\n",
            "長方形面積為：96.0\n"
          ]
        }
      ]
    },
    {
      "cell_type": "code",
      "source": [
        "#HW1.1\n",
        "import math\n",
        "crd_O = [4.013, 0.831, -9.083] # coordinate of atom O\n",
        "crd_H1 = [4.941, 0.844, -8.837] #coordinate of atom H1\n",
        "crd_H2 = [3.750, -0.068, -9.293] #coordinate of atom H2\n",
        "print(\"氧原子座標O\", crd_O)\n",
        "print(\"氫原子1座標H1\", crd_H1)\n",
        "print(\"氫原子2座標H2\", crd_H2)\n",
        "O_H1 = (crd_H1[0]-crd_O[0])**2 + (crd_H1[1]-crd_O[1])**2 + (crd_H1[2]-crd_O[2])**2\n",
        "bond_O_H1 = math.sqrt(O_H1)\n",
        "print(\"OH1的鍵長為：\" + str(bond_O_H1))\n",
        "O_H2 = (crd_H2[0]-crd_O[0])**2 + (crd_H2[1]-crd_O[1])**2 + (crd_H2[2]-crd_O[2])**2\n",
        "bond_O_H2 = math.sqrt(O_H2)\n",
        "print(\"OH2的鍵長為：\" + str(bond_O_H2))\n",
        "H1_H2 = (crd_H1[0]-crd_H2[0])**2 + (crd_H1[1]-crd_H2[1])**2 + (crd_H1[2]-crd_H2[2])**2\n",
        "bond_H1_H2 = math.sqrt(H1_H2)\n",
        "print(\"H1H2的鍵長為：\" + str(bond_H1_H2))"
      ],
      "metadata": {
        "colab": {
          "base_uri": "https://localhost:8080/"
        },
        "id": "kWdXAIXi0bBP",
        "outputId": "d544fdfe-92b3-4e60-b820-d2ee2e41b6a6"
      },
      "execution_count": null,
      "outputs": [
        {
          "output_type": "stream",
          "name": "stdout",
          "text": [
            "氧原子座標O [4.013, 0.831, -9.083]\n",
            "氫原子1座標H1 [4.941, 0.844, -8.837]\n",
            "氫原子2座標H2 [3.75, -0.068, -9.293]\n",
            "OH1的鍵長為：0.9601400939446285\n",
            "OH2的鍵長為：0.95993228927878\n",
            "H1H2的鍵長為：1.5678523527424384\n"
          ]
        }
      ]
    },
    {
      "cell_type": "code",
      "source": [
        "#HW1.2\n",
        "e_O_O = 0.1550 #epson value\n",
        "d_O_O = 3.1536 #delta value\n",
        "crd_O1 = [0.073, 0.319, 0.695] # coordinate of atom O1\n",
        "crd_O2 = [0.517, 2.808, -0.388] # coordinate of atom O2\n",
        "O1_O2 = (crd_O1[0]-crd_O2[0])**2 + (crd_O1[1]-crd_O2[1])**2 + (crd_O1[2]-crd_O2[2])**2\n",
        "r_O_O = bond_O1_O2 = math.sqrt(O1_O2)\n",
        "#print(O1_O2)\n",
        "#print(bond_O1_O2)\n",
        "a = d_O_O / r_O_O\n",
        "#print(\"a\", a)\n",
        "v = 4 * e_O_O * (a ** 12 - a ** 6) # potential energy between 2 water molecules\n",
        "print(\"兩個水分子之間的凡得瓦作用位能 = \" + str(v))"
      ],
      "metadata": {
        "id": "4mI88d9jC92W",
        "colab": {
          "base_uri": "https://localhost:8080/"
        },
        "outputId": "124170a4-74fe-45e9-9488-972286d7cf39"
      },
      "execution_count": 24,
      "outputs": [
        {
          "output_type": "stream",
          "name": "stdout",
          "text": [
            "兩個水分子之間的凡得瓦作用位能 = 1.791552983665713\n"
          ]
        }
      ]
    },
    {
      "cell_type": "code",
      "source": [
        "x = \"I like NTU\"\n",
        "x.split()"
      ],
      "metadata": {
        "colab": {
          "base_uri": "https://localhost:8080/"
        },
        "id": "QpbMgtvvxzFS",
        "outputId": "25d7a422-f7c1-48f8-9ca1-8b77551e414c"
      },
      "execution_count": null,
      "outputs": [
        {
          "output_type": "execute_result",
          "data": {
            "text/plain": [
              "['I', 'like', 'NTU']"
            ]
          },
          "metadata": {},
          "execution_count": 10
        }
      ]
    },
    {
      "cell_type": "code",
      "source": [
        "x = x.replace(\"NTU\", \"TKU\")\n",
        "print(x)"
      ],
      "metadata": {
        "colab": {
          "base_uri": "https://localhost:8080/"
        },
        "id": "lC5xkpJqyJPe",
        "outputId": "a83d17aa-133c-4f7e-db46-a709654999ad"
      },
      "execution_count": null,
      "outputs": [
        {
          "output_type": "stream",
          "name": "stdout",
          "text": [
            "I like TKU\n"
          ]
        }
      ]
    },
    {
      "cell_type": "code",
      "source": [
        "x = \"PUI PUI 天竺鼠車車, I like PUI PUI 天竺鼠車車\"\n",
        "x.replace(\"PUI\", \"噗噗\", 2)"
      ],
      "metadata": {
        "colab": {
          "base_uri": "https://localhost:8080/",
          "height": 35
        },
        "id": "zsnBiMTQyg8X",
        "outputId": "82b67e01-dcf1-4bc0-c995-585c275c86db"
      },
      "execution_count": null,
      "outputs": [
        {
          "output_type": "execute_result",
          "data": {
            "text/plain": [
              "'噗噗 噗噗 天竺鼠車車, I like PUI PUI 天竺鼠車車'"
            ],
            "application/vnd.google.colaboratory.intrinsic+json": {
              "type": "string"
            }
          },
          "metadata": {},
          "execution_count": 19
        }
      ]
    },
    {
      "cell_type": "code",
      "source": [
        "#HW2.1\n",
        "major_Eng = str(input(\"請輸入學系英文縮寫\")\n",
        "student_id = str(input(\"請輸入學號\"))\n"
      ],
      "metadata": {
        "id": "V8bfe9Oo3eRD"
      },
      "execution_count": null,
      "outputs": []
    },
    {
      "cell_type": "code",
      "source": [
        "x, y = 1, 2\n",
        "print(x)\n",
        "print(y)"
      ],
      "metadata": {
        "colab": {
          "base_uri": "https://localhost:8080/"
        },
        "id": "Epjtqhwh7naI",
        "outputId": "b84cfef1-e86e-4e9b-8a1e-5bc23531c591"
      },
      "execution_count": null,
      "outputs": [
        {
          "output_type": "stream",
          "name": "stdout",
          "text": [
            "1\n",
            "2\n"
          ]
        }
      ]
    },
    {
      "cell_type": "code",
      "source": [
        "t = (10, 20)\n",
        "x, y = t\n",
        "print(x)\n",
        "print(y)"
      ],
      "metadata": {
        "colab": {
          "base_uri": "https://localhost:8080/"
        },
        "id": "NmNTdnb877yj",
        "outputId": "b04a0bbd-2e92-443b-8978-65bd4c453626"
      },
      "execution_count": null,
      "outputs": [
        {
          "output_type": "stream",
          "name": "stdout",
          "text": [
            "10\n",
            "20\n"
          ]
        }
      ]
    },
    {
      "cell_type": "code",
      "source": [
        "x, y = y, x\n",
        "print(x)\n",
        "print(y)"
      ],
      "metadata": {
        "colab": {
          "base_uri": "https://localhost:8080/"
        },
        "id": "YBlWgXls8Kcx",
        "outputId": "022f2c4c-6e73-4528-fc13-744726d98b62"
      },
      "execution_count": null,
      "outputs": [
        {
          "output_type": "stream",
          "name": "stdout",
          "text": [
            "20\n",
            "10\n"
          ]
        }
      ]
    },
    {
      "cell_type": "code",
      "source": [
        "a = {}\n",
        "a = {\"zero\": 0}\n",
        "a[\"one\"] = 1\n",
        "print(a)"
      ],
      "metadata": {
        "colab": {
          "base_uri": "https://localhost:8080/"
        },
        "id": "ZJoQyCzE8fFN",
        "outputId": "36939fbe-115a-4ad4-ec8d-2903eb15ce46"
      },
      "execution_count": null,
      "outputs": [
        {
          "output_type": "stream",
          "name": "stdout",
          "text": [
            "{'zero': 0, 'one': 1}\n"
          ]
        }
      ]
    },
    {
      "cell_type": "code",
      "source": [
        "a[\"zero\"] = 2\n",
        "print(a)"
      ],
      "metadata": {
        "colab": {
          "base_uri": "https://localhost:8080/"
        },
        "id": "GlLpJvWt9AX0",
        "outputId": "b5929b61-f352-46a3-c40e-288630294c77"
      },
      "execution_count": null,
      "outputs": [
        {
          "output_type": "stream",
          "name": "stdout",
          "text": [
            "{'zero': 2, 'one': 1}\n"
          ]
        }
      ]
    },
    {
      "cell_type": "code",
      "source": [
        "student_inf =(\"學號+姓名+座號\")\n",
        "student_inf.split"
      ],
      "metadata": {
        "colab": {
          "base_uri": "https://localhost:8080/"
        },
        "id": "l4thBdhk9nXu",
        "outputId": "76a2e9ea-75ec-40de-f014-ef6ee90851c5"
      },
      "execution_count": null,
      "outputs": [
        {
          "output_type": "execute_result",
          "data": {
            "text/plain": [
              "<function str.split(sep=None, maxsplit=-1)>"
            ]
          },
          "metadata": {},
          "execution_count": 27
        }
      ]
    },
    {
      "cell_type": "code",
      "source": [
        "x = \"I_like_NTU\"\n",
        "y = x.split('_')\n",
        "print(str(y[0]),str(y[1]), str(y[2]))\n",
        "print(str(y[0]))\n",
        "print(y)"
      ],
      "metadata": {
        "colab": {
          "base_uri": "https://localhost:8080/"
        },
        "id": "u7WWEVXh8CoH",
        "outputId": "1bf945d8-b752-4d15-94a1-6bf97db7a238"
      },
      "execution_count": 41,
      "outputs": [
        {
          "output_type": "stream",
          "name": "stdout",
          "text": [
            "I like NTU\n",
            "I\n",
            "['I', 'like', 'NTU']\n"
          ]
        }
      ]
    },
    {
      "cell_type": "code",
      "source": [
        "#HW2.1\n",
        "#輸入字串並印出\n",
        "#請輸入學系英文縮寫、學號、姓名，並用底線做區隔\n",
        "student_inf = str(input(\"請輸入學系英文縮寫＋學號＋姓名:\"))\n",
        "#print(\"請輸入學系英文縮寫＋學號＋姓名:\"+str(student_inf))\n",
        "s = student_inf.split(\"_\")\n",
        "print(\"學系英文縮寫為:\"+str(s[0]))\n",
        "print(\"學號為:\"+str(s[1]))\n",
        "print(\"姓名為:\"+str(s[2]))"
      ],
      "metadata": {
        "colab": {
          "base_uri": "https://localhost:8080/"
        },
        "id": "o2arXrSn_5B2",
        "outputId": "09903920-33ea-42f7-8104-51bc92d5714c"
      },
      "execution_count": 27,
      "outputs": [
        {
          "output_type": "stream",
          "name": "stdout",
          "text": [
            "請輸入學系英文縮寫＋學號＋姓名:NTHUIBSB_110080574_許淑瑗\n",
            "學系英文縮寫為:NTHUIBSB\n",
            "學號為:110080574\n",
            "姓名為:許淑瑗\n"
          ]
        }
      ]
    },
    {
      "cell_type": "code",
      "source": [
        "#HW2.2\n",
        "#輸出成績、統計成績、成績排序\n",
        "import numpy as np\n",
        "import statistics\n",
        "score_1 = int(input(\"請輸入1號同學成績:\"))\n",
        "score_2 = int(input(\"請輸入2號同學成績:\"))\n",
        "score_3 = int(input(\"請輸入3號同學成績:\"))\n",
        "score_4 = int(input(\"請輸入4號同學成績:\"))\n",
        "score = [score_1, score_2, score_3, score_4]\n",
        "#print(score)\n",
        "student_id = int(input(\"請輸入同學編號，以印出成績:\"))\n",
        "#student_id -= 1\n",
        "#print(\"第\"+str(student_id)+\"位同學成績為:\", str(score[a]))\n",
        "print(\"第\"+str(student_id)+\"位同學成績為:\", score[student_id-1])\n",
        "print(\"四位同學成績平均為:\", float(statistics.mean(score)))\n",
        "print(\"四位同學成績樣本標準差為:\", statistics.stdev(score))\n",
        "score.sort()\n",
        "score.reverse()\n",
        "print(\"成績由大到小排序為:\",str(score))"
      ],
      "metadata": {
        "colab": {
          "base_uri": "https://localhost:8080/"
        },
        "id": "iAM0iVCeC7Tw",
        "outputId": "9616b933-e7a7-4c24-ba5e-2fd027961027"
      },
      "execution_count": 26,
      "outputs": [
        {
          "output_type": "stream",
          "name": "stdout",
          "text": [
            "請輸入1號同學成績:10\n",
            "請輸入2號同學成績:20\n",
            "請輸入3號同學成績:30\n",
            "請輸入4號同學成績:40\n",
            "請輸入同學編號，以印出成績:2\n",
            "第2位同學成績為: 20\n",
            "四位同學成績平均為: 25.0\n",
            "四位同學成績樣本標準差為: 12.909944487358056\n",
            "成績由大到小排序為: [40, 30, 20, 10]\n"
          ]
        }
      ]
    },
    {
      "cell_type": "markdown",
      "source": [
        "# 新增區段"
      ],
      "metadata": {
        "id": "4Oj0Be943Mve"
      }
    }
  ]
}